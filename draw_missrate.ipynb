{
 "cells": [
  {
   "cell_type": "code",
   "execution_count": null,
   "id": "5b89bb96",
   "metadata": {},
   "outputs": [],
   "source": [
    "python utils/eval/kaisteval.py --annFile utils/eval/KAIST_val-A_annotation.json --rstFiles runs/train/anchor_fold5_epoch20/epochNone_predictions.json --evalFig fppi_anchor_epoch20.png\n",
    "\n",
    "python utils/eval/kaisteval.py --annFile utils/eval/KAIST_val-A_annotation.json --rstFiles runs/train/GIoU/epochNone_predictions.json --evalFig fppi_GIoU_epoch20.png\n",
    "\n",
    "python utils/eval/kaisteval.py --annFile utils/eval/KAIST_val-A_annotation.json --rstFiles runs/train/IoM/epochNone_predictions.json --evalFig fppi_IOM_epoch20.png\n",
    "\n",
    "python utils/eval/kaisteval.py --annFile utils/eval/KAIST_val-A_annotation.json --rstFiles runs/train/loss_th05/epochNone_predictions.json --evalFig fppi_loss_th05.png\n"
   ]
  }
 ],
 "metadata": {
  "kernelspec": {
   "display_name": "OD_env",
   "language": "python",
   "name": "python3"
  },
  "language_info": {
   "codemirror_mode": {
    "name": "ipython",
    "version": 3
   },
   "file_extension": ".py",
   "mimetype": "text/x-python",
   "name": "python",
   "nbconvert_exporter": "python",
   "pygments_lexer": "ipython3",
   "version": "3.10.18"
  }
 },
 "nbformat": 4,
 "nbformat_minor": 5
}
